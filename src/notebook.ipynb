{
 "cells": [
  {
   "cell_type": "markdown",
   "metadata": {},
   "source": [
    "# Determinar el Aglomerado Gran Buenos Aires usando datos abiertos de Open Street Map"
   ]
  },
  {
   "cell_type": "code",
   "execution_count": 1,
   "metadata": {
    "collapsed": true
   },
   "outputs": [],
   "source": [
    "#https://datos.minem.gob.ar/informacion-socioeconomica-areas-urbanas-segun-calles-osm\n",
    "#https://sig.se.gob.ar/geoportal/docs/Ponencia_SE_Nucleos_Poblados_2015.pdf"
   ]
  },
  {
   "cell_type": "code",
   "execution_count": 2,
   "metadata": {
    "collapsed": false
   },
   "outputs": [],
   "source": [
    "import pandas as pd\n",
    "import geopandas as gpd\n",
    "import shapely\n",
    "import os\n",
    "import seaborn as sns\n",
    "\n",
    "import matplotlib.pyplot as plt\n",
    "%matplotlib inline\n"
   ]
  },
  {
   "cell_type": "code",
   "execution_count": 3,
   "metadata": {
    "collapsed": false
   },
   "outputs": [
    {
     "data": {
      "application/javascript": [
       "$.getScript('https://kmahelona.github.io/ipython_notebook_goodies/ipython_notebook_toc.js')"
      ],
      "text/plain": [
       "<IPython.core.display.Javascript object>"
      ]
     },
     "metadata": {},
     "output_type": "display_data"
    }
   ],
   "source": [
    "%%javascript\n",
    "$.getScript('https://kmahelona.github.io/ipython_notebook_goodies/ipython_notebook_toc.js')\n"
   ]
  },
  {
   "cell_type": "markdown",
   "metadata": {},
   "source": [
    "## Introducción\n",
    "\n",
    "El objetivo de este trabajo es ofrecer una metodología sencilla para determinar de una manera práctica qué constituye el **Aglomerado Gran Buenos Aires (AGBA)**. El Instituto Nacional de Estadísticas y Censos de Argentina (INDEC) [establece](http://www.indec.gov.ar/nuevaweb/cuadros/4/folleto%20gba.pdf) una distinción entre este y el **Gran Buenos Aires (AGBA)**: *\"La diferencia entre el Gran Buenos Aires y el Aglomerado Gran Buenos Aires es que el primero alude a un conjunto de partidos (más la Ciudad de Buenos Aires) tomados en su totalidad, mientras el\n",
    "segundo alude a un área que se va moviendo con el tiempo y que incluye a algunos partidos de manera\n",
    "parcial.*\n",
    "\n",
    "Esta naturaleza cambiante del envolvente de población alude al denominado [Modifiable areal unit problem (MAUP)](https://en.wikipedia.org/wiki/Modifiable_areal_unit_problem) o *Problema de la Unidad Espacial Modificable (PUEM)*.  En este trabajo buscamos ofrecer una solución rápida y práctica, utilizando datos abiertos de [Open Street Map](https://www.openstreetmap.org/#map=10/-34.7427/-58.6230). La ventaja de este método es, por un lado, su sencillez y rapidez. Por el otro, al ser OpenStreetMap actualizado permanentemente permite mantener actualizados los cambios en el **AGBA** a raíz del avance de urbanización del espacio rural. También permite delimitar hacia el interior del espacio urbano consolidado, radios censales que en su mayoría no contienen espacios residenciales, generando radios de áreas extensas donde no se encuentra realmente población alguna (parques, plazas, zonas industriales, etc.). En las destenvajas se puede enumerar el posible sesgo de recolección de datos por parte de OpenStreetMap, como así también la toma de decisiones arbitrarias de parte nuestra para solucionar algunos escollos.  \n",
    "\n",
    "El proceso puede ser resumido en las siguientes etapas:\n",
    "\n",
    "   1. Descargar cartografía de Ciudad Autónoma de Buenos Aires (CABA) y Provincia de Buenos Aires (PBA)\n",
    "   1. Seleccionar los departamentos considerados por el INDEC como parte del AGBA\n",
    "   1. Seleccionar aquellos radios censales con baja densidad o caracterizados como de zona mixta por la cédula censal\n",
    "   1. Descargar calles de Open Street Map\n",
    "   1. Seleccionar calles residenciales y asignarles un buffer de 100m \n",
    "   1. Para cada radio censal seleccionado, obtener el area cubierta por calles residenciales\n",
    "   1. Seleccionar areas donde las calles residenciales conforme un entramado compacto \n",
    "   1. Recortar para los radios seleccionados ese area, asignarles la a=indentificación del radio y descartar el resto del área\n"
   ]
  },
  {
   "cell_type": "markdown",
   "metadata": {},
   "source": [
    "## 1. Cartografía \n",
    "\n",
    "El INDEC reliza el relevamiento de cada radio censal al cual se le asigna una categoria de urbano, rural o mixto. Esta información no se encuentra disponible aún de manera oficial, aunque puede construirse en base a los radios que publica el Gobierno de la Provincia de Buenos Aires en su [portal de datos abiertos](http://catalogo.datos.gba.gob.ar/dataviews/230038/RADIO-CENSA/) (asumimos que todos los radios de la Ciudad de Buenos Aires son de tipo urbano). Esto es un problema para la reproducibilidad de este trabajo, con el tiempo será subsanada."
   ]
  },
  {
   "cell_type": "code",
   "execution_count": 4,
   "metadata": {
    "collapsed": true
   },
   "outputs": [],
   "source": [
    "#cargo cartografia no oficial de INDEC\n",
    "home = os.path.expanduser(\"~\")\n",
    "agba = gpd.GeoDataFrame.from_file(home + '/Downloads/paisNoOficial/rad_paisp.shp')\n",
    "\n",
    "#construyo el campo LINK como id unica del radio\n",
    "agba['LINK'] = agba.PROV + agba.DEPTO + agba.FRAC + agba.RADIO\n",
    "agba.drop([u'DEPTO', u'FRAC', u'PERIMETER', u'PROV', u'RADIO', u'RADPAIS_',\n",
    "       u'RADPAIS_ID'],axis=1,inplace=True)\n",
    "\n"
   ]
  },
  {
   "cell_type": "markdown",
   "metadata": {},
   "source": [
    "## 2. Selección de departamentos pertenecientes al AGBA\n",
    "\n",
    "En primer lugar se seleccionan los radios pertenecientes a los departamentos que el INDEC considera del AGBA. En segundo lugar se eliminan los radios de tipo rural. Esto nos deja con los radios urbanos y los mixtos. Estos últimos son los que presentarán un desafío a la hora de terminar la porción efectivamente poblada."
   ]
  },
  {
   "cell_type": "code",
   "execution_count": 5,
   "metadata": {
    "collapsed": false
   },
   "outputs": [
    {
     "data": {
      "text/html": [
       "<div>\n",
       "<table border=\"1\" class=\"dataframe\">\n",
       "  <thead>\n",
       "    <tr style=\"text-align: right;\">\n",
       "      <th></th>\n",
       "      <th>AREA</th>\n",
       "      <th>LINK</th>\n",
       "      <th>TIPO</th>\n",
       "      <th>geometry</th>\n",
       "    </tr>\n",
       "  </thead>\n",
       "  <tbody>\n",
       "    <tr>\n",
       "      <th>26688</th>\n",
       "      <td>16948780.0</td>\n",
       "      <td>062520101</td>\n",
       "      <td>M</td>\n",
       "      <td>POLYGON ((5605573.523703439 6208535.44525929, ...</td>\n",
       "    </tr>\n",
       "    <tr>\n",
       "      <th>26704</th>\n",
       "      <td>12351870.0</td>\n",
       "      <td>062520102</td>\n",
       "      <td>M</td>\n",
       "      <td>POLYGON ((5606597.563514996 6207794.426813126,...</td>\n",
       "    </tr>\n",
       "    <tr>\n",
       "      <th>26719</th>\n",
       "      <td>11063170.0</td>\n",
       "      <td>062520208</td>\n",
       "      <td>U</td>\n",
       "      <td>POLYGON ((5608236.390336967 6207306.631047663,...</td>\n",
       "    </tr>\n",
       "    <tr>\n",
       "      <th>26741</th>\n",
       "      <td>796720.3</td>\n",
       "      <td>062520201</td>\n",
       "      <td>U</td>\n",
       "      <td>POLYGON ((5611075.149383005 6206034.538516479,...</td>\n",
       "    </tr>\n",
       "    <tr>\n",
       "      <th>26747</th>\n",
       "      <td>2996825.0</td>\n",
       "      <td>062520202</td>\n",
       "      <td>U</td>\n",
       "      <td>POLYGON ((5613709.611741914 6205445.958880841,...</td>\n",
       "    </tr>\n",
       "  </tbody>\n",
       "</table>\n",
       "</div>"
      ],
      "text/plain": [
       "             AREA       LINK TIPO  \\\n",
       "26688  16948780.0  062520101    M   \n",
       "26704  12351870.0  062520102    M   \n",
       "26719  11063170.0  062520208    U   \n",
       "26741    796720.3  062520201    U   \n",
       "26747   2996825.0  062520202    U   \n",
       "\n",
       "                                                geometry  \n",
       "26688  POLYGON ((5605573.523703439 6208535.44525929, ...  \n",
       "26704  POLYGON ((5606597.563514996 6207794.426813126,...  \n",
       "26719  POLYGON ((5608236.390336967 6207306.631047663,...  \n",
       "26741  POLYGON ((5611075.149383005 6206034.538516479,...  \n",
       "26747  POLYGON ((5613709.611741914 6205445.958880841,...  "
      ]
     },
     "execution_count": 5,
     "metadata": {},
     "output_type": "execute_result"
    }
   ],
   "source": [
    "#creo el codigo departamento para filtrar los pertenecientes al agba \n",
    "agba['DEPARTAMENTO'] = agba.LINK.map(lambda x: x[0:5])\n",
    "\n",
    "#departamentos AGBA segun INDEC\n",
    "departamentos = {\n",
    "    'Comuna 1':'02001',\n",
    "    'Comuna 2':'02002',\n",
    "    'Comuna 3':'02003',\n",
    "    'Comuna 4':'02004',\n",
    "    'Comuna 5':'02005',\n",
    "    'Comuna 6':'02006',\n",
    "    'Comuna 7':'02007',\n",
    "    'Comuna 8':'02008',\n",
    "    'Comuna 9':'02009',\n",
    "    'Comuna 10':'02010',\n",
    "    'Comuna 11':'02011',\n",
    "    'Comuna 12':'02012',\n",
    "    'Comuna 13':'02013',\n",
    "    'Comuna 14':'02014',\n",
    "    'Comuna 15':'02015',\n",
    "    'ALMIRANTE BROWN':'06028',\n",
    "    'AVELLANEDA':'06035',\n",
    "    'BERAZATEGUI':'06091',\n",
    "    'ESCOBAR':'06252',\n",
    "    'ESTEBAN ECHEVERRIA':'06260',\n",
    "    'EZEIZA':'06270',\n",
    "    'FLORENCIO VARELA':'06274',\n",
    "    'GENERAL RODRIGUEZ':'06364',\n",
    "    'GENERAL SAN MARTIN':'06371',\n",
    "    'HURLINGHAM':'06408',\n",
    "    'ITUZAINGO':'06410',\n",
    "    'JOSE C PAZ':'06412',\n",
    "    'LA MATANZA':'06427',\n",
    "    'LANUS':'06434',\n",
    "    'LOMAS DE ZAMORA':'06490',\n",
    "    'MALVINAS ARGENTINAS':'06515',\n",
    "    'MARCOS PAZ':'06525',\n",
    "    'MERLO':'06539',\n",
    "    'MORENO':'06560',\n",
    "    'MORON':'06568',\n",
    "    'PILAR':'06638',\n",
    "    'PRESIDENTE PERON':'06648',\n",
    "    'QUILMES':'06658',\n",
    "    'SAN FERNANDO':'06749',\n",
    "    'SAN ISIDRO':'06756',\n",
    "    'SAN MIGUEL':'06760',\n",
    "    'SAN VICENTE':'06778',\n",
    "    'TIGRE':'06805',\n",
    "    'TRES DE FEBRERO':'06840',\n",
    "    'VICENTE LOPEZ':'06861'\n",
    "}\n",
    "\n",
    "\n",
    "#se eliminan los departamentos no pertenecientes al AGBA\n",
    "agba = agba.loc[agba.DEPARTAMENTO.isin(departamentos.values()),:]\n",
    "agba.drop(['DEPARTAMENTO'],axis=1,inplace=True)\n",
    "\n",
    "#los radios faltantes correspondientes a CABA son urbanos\n",
    "agba.TIPO.fillna('U',inplace=True)\n",
    "\n",
    "#se eliminan los radios rurales \n",
    "agba = agba.loc[agba.TIPO!='R',:]\n",
    "\n",
    "#se agregan etiquetas para los departamentos\n",
    "#deptos = []\n",
    "#for i in range(agba.shape[0]):\n",
    "#    deptos.append(departamentosName[agba.DEPARTAMENTO.iloc[i]])\n",
    "#agba['DEPTO_NAME'] = deptos\n",
    "\n",
    "#se proyecta el geodataframe como POSGAR94 Argentina 5 \n",
    "agba = agba.to_crs(epsg=22185)\n",
    "\n",
    "agba.head()\n"
   ]
  },
  {
   "cell_type": "code",
   "execution_count": 6,
   "metadata": {
    "collapsed": false
   },
   "outputs": [],
   "source": [
    "\n",
    "departamentosName = {\n",
    "    '02001':'Comuna 1',\n",
    "    '02002':'Comuna 2',\n",
    "    '02003':'Comuna 3',\n",
    "    '02004':'Comuna 4',\n",
    "    '02005':'Comuna 5',\n",
    "    '02006':'Comuna 6',\n",
    "    '02007':'Comuna 7',\n",
    "    '02008':'Comuna 8',\n",
    "    '02009':'Comuna 9',\n",
    "    '02010':'Comuna 10',\n",
    "    '02011':'Comuna 11',\n",
    "    '02012':'Comuna 12',\n",
    "    '02013':'Comuna 13',\n",
    "    '02014':'Comuna 14',\n",
    "    '02015':'Comuna 15',\n",
    "    '06028':'ALMIRANTE BROWN',\n",
    "    '06035':'AVELLANEDA',\n",
    "    '06091':'BERAZATEGUI',\n",
    "    '06252':'ESCOBAR',\n",
    "    '06260':'ESTEBAN ECHEVERRIA',\n",
    "    '06270':'EZEIZA',\n",
    "    '06274':'FLORENCIO VARELA',\n",
    "    '06364':'GENERAL RODRIGUEZ',\n",
    "    '06371':'GENERAL SAN MARTIN',\n",
    "    '06408':'HURLINGHAM',\n",
    "    '06410':'ITUZAINGO',\n",
    "    '06412':'JOSE C PAZ',\n",
    "    '06427':'LA MATANZA',\n",
    "    '06434':'LANUS',\n",
    "    '06490':'LOMAS DE ZAMORA',\n",
    "    '06515':'MALVINAS ARGENTINAS',\n",
    "    '06525':'MARCOS PAZ',\n",
    "    '06539':'MERLO',\n",
    "    '06560':'MORENO',\n",
    "    '06568':'MORON',\n",
    "    '06638':'PILAR',\n",
    "    '06648':'PRESIDENTE PERON',\n",
    "    '06658':'QUILMES',\n",
    "    '06749':'SAN FERNANDO',\n",
    "    '06756':'SAN ISIDRO',\n",
    "    '06760':'SAN MIGUEL',\n",
    "    '06778':'SAN VICENTE',\n",
    "    '06805':'TIGRE',\n",
    "    '06840':'TRES DE FEBRERO',\n",
    "    '06861':'VICENTE LOPEZ'\n",
    "}\n"
   ]
  },
  {
   "cell_type": "markdown",
   "metadata": {},
   "source": [
    "## 3. Seleccionar los radios con baja densidad o de zonas mixtas\n",
    "\n",
    "Utilizando el [sistema de consulta](http://200.51.91.245/argbin/RpWebEngine.exe/PortalAction?&MODE=MAIN&BASE=CPV2010B&MAIN=WebServerMain.inl) para el Censo 2010 de REDATAM en el sitio oficial de INDEC, se obtiene la cantidad de población de cada radio para la provincia de Buenos Aires como para la Ciudad, con el objetivo de estimar la densidad poblacional. "
   ]
  },
  {
   "cell_type": "code",
   "execution_count": 7,
   "metadata": {
    "collapsed": false
   },
   "outputs": [],
   "source": [
    "#esta data fue descargada desde la pagina oficial de indec \n",
    "#http://200.51.91.245/argbin/RpWebEngine.exe/PortalAction?&MODE=MAIN&BASE=CPV2010B&MAIN=WebServerMain.inl\n",
    "#obteniendo listado por areas a nivel de radio censal\n",
    "#sexo, con total de filas, para: \n",
    "\n",
    "#los 24 partidos del Gran Benos Aires\n",
    "pbaPob = pd.read_csv('../dt/poblacionPBAcenso.csv')\n",
    "pbaPob.LINK = pbaPob.LINK.map(lambda x: '0'+str(x))\n",
    "\n",
    "\n",
    "#CABA \n",
    "cabaPob = pd.read_csv('../dt/poblacionCABAcenso.csv')\n",
    "cabaPob.LINK = cabaPob.LINK.map(lambda x: '0'+str(x))\n",
    "\n",
    "poblacion = cabaPob.append(pbaPob)\n",
    "\n",
    "#se agregan los datos a la tabla de agba con la geografia\n",
    "agba = agba.merge(poblacion, on='LINK',how='left')\n",
    "\n",
    "#se calcula la densidad de cada radio censal y se la divide en \n",
    "agba['densidad'] = agba.Pob / agba.AREA\n",
    "agba['densidad'] = pd.qcut(agba.densidad,10,labels=False)"
   ]
  },
  {
   "cell_type": "code",
   "execution_count": 8,
   "metadata": {
    "collapsed": false
   },
   "outputs": [
    {
     "data": {
      "text/html": [
       "<div>\n",
       "<table border=\"1\" class=\"dataframe\">\n",
       "  <thead>\n",
       "    <tr style=\"text-align: right;\">\n",
       "      <th>TIPO</th>\n",
       "      <th>M</th>\n",
       "      <th>U</th>\n",
       "    </tr>\n",
       "    <tr>\n",
       "      <th>densidad</th>\n",
       "      <th></th>\n",
       "      <th></th>\n",
       "    </tr>\n",
       "  </thead>\n",
       "  <tbody>\n",
       "    <tr>\n",
       "      <th>0</th>\n",
       "      <td>76</td>\n",
       "      <td>1269</td>\n",
       "    </tr>\n",
       "    <tr>\n",
       "      <th>1</th>\n",
       "      <td>0</td>\n",
       "      <td>1345</td>\n",
       "    </tr>\n",
       "    <tr>\n",
       "      <th>2</th>\n",
       "      <td>0</td>\n",
       "      <td>1344</td>\n",
       "    </tr>\n",
       "    <tr>\n",
       "      <th>3</th>\n",
       "      <td>0</td>\n",
       "      <td>1345</td>\n",
       "    </tr>\n",
       "    <tr>\n",
       "      <th>4</th>\n",
       "      <td>1</td>\n",
       "      <td>1343</td>\n",
       "    </tr>\n",
       "    <tr>\n",
       "      <th>5</th>\n",
       "      <td>0</td>\n",
       "      <td>1345</td>\n",
       "    </tr>\n",
       "    <tr>\n",
       "      <th>6</th>\n",
       "      <td>0</td>\n",
       "      <td>1344</td>\n",
       "    </tr>\n",
       "    <tr>\n",
       "      <th>7</th>\n",
       "      <td>0</td>\n",
       "      <td>1345</td>\n",
       "    </tr>\n",
       "    <tr>\n",
       "      <th>8</th>\n",
       "      <td>0</td>\n",
       "      <td>1344</td>\n",
       "    </tr>\n",
       "    <tr>\n",
       "      <th>9</th>\n",
       "      <td>0</td>\n",
       "      <td>1345</td>\n",
       "    </tr>\n",
       "  </tbody>\n",
       "</table>\n",
       "</div>"
      ],
      "text/plain": [
       "TIPO       M     U\n",
       "densidad          \n",
       "0         76  1269\n",
       "1          0  1345\n",
       "2          0  1344\n",
       "3          0  1345\n",
       "4          1  1343\n",
       "5          0  1345\n",
       "6          0  1344\n",
       "7          0  1345\n",
       "8          0  1344\n",
       "9          0  1345"
      ]
     },
     "execution_count": 8,
     "metadata": {},
     "output_type": "execute_result"
    }
   ],
   "source": [
    "pd.crosstab(agba.densidad,agba.TIPO)"
   ]
  },
  {
   "cell_type": "markdown",
   "metadata": {},
   "source": [
    "Como es de esperar los radios mixtos se encuentran en el primer decil de densidad demográfica (esto es decir, el grupo con menor densidad). Existe una excepcion "
   ]
  },
  {
   "cell_type": "code",
   "execution_count": 9,
   "metadata": {
    "collapsed": false,
    "scrolled": true
   },
   "outputs": [
    {
     "name": "stdout",
     "output_type": "stream",
     "text": [
      "065391015\n"
     ]
    },
    {
     "name": "stderr",
     "output_type": "stream",
     "text": [
      "/home/pipe/anaconda2/lib/python2.7/site-packages/pandas/core/indexing.py:141: SettingWithCopyWarning: \n",
      "A value is trying to be set on a copy of a slice from a DataFrame\n",
      "\n",
      "See the caveats in the documentation: http://pandas.pydata.org/pandas-docs/stable/indexing.html#indexing-view-versus-copy\n",
      "  self._setitem_with_indexer(indexer, value)\n"
     ]
    }
   ],
   "source": [
    "idRadioEspecial = agba.LINK[(agba.TIPO == 'M') & (agba.densidad == 4)].iloc[0]\n",
    "radioEspecial = agba.loc[agba.LINK == idRadioEspecial,:].copy()\n",
    "punto = radioEspecial.geometry.iloc[0].centroid\n",
    "radioEspecial.geometry.iloc[0] = punto\n",
    "\n",
    "print idRadioEspecial"
   ]
  },
  {
   "cell_type": "markdown",
   "metadata": {},
   "source": [
    "Como se explicó al principio nuestor interés se encuentra en los radios que no se encuentran poblados en toda su extensión. Esto puede ser porque son radios de tipo mixto ubicados en los bordes del área urbana o porque, aún encontrándose dentro de un ámbito urbano consolidado, presentan grandes extensiones sin poblar (grandes parques por ejemplo). Por lo tanto los radios que son de nuestro interés son aquellos que son de tipo mixto o que son de baja densidad. Crearemos dos tablas, una que contenga los radios que intuimos estan poblados en su totalidad y no nos interesa determinar el area realmente poblada y la otra con los radios en los cuales utilizaremos las calles de OSM para detemrinar dicha area. "
   ]
  },
  {
   "cell_type": "code",
   "execution_count": 10,
   "metadata": {
    "collapsed": false
   },
   "outputs": [
    {
     "data": {
      "text/html": [
       "<div>\n",
       "<table border=\"1\" class=\"dataframe\">\n",
       "  <thead>\n",
       "    <tr style=\"text-align: right;\">\n",
       "      <th></th>\n",
       "      <th>LINK</th>\n",
       "      <th>TIPO</th>\n",
       "      <th>geometry</th>\n",
       "      <th>mixYden</th>\n",
       "    </tr>\n",
       "  </thead>\n",
       "  <tbody>\n",
       "    <tr>\n",
       "      <th>0</th>\n",
       "      <td>062520101</td>\n",
       "      <td>M</td>\n",
       "      <td>POLYGON ((5605573.523703439 6208535.44525929, ...</td>\n",
       "      <td>True</td>\n",
       "    </tr>\n",
       "    <tr>\n",
       "      <th>1</th>\n",
       "      <td>062520102</td>\n",
       "      <td>M</td>\n",
       "      <td>POLYGON ((5606597.563514996 6207794.426813126,...</td>\n",
       "      <td>True</td>\n",
       "    </tr>\n",
       "    <tr>\n",
       "      <th>2</th>\n",
       "      <td>062520208</td>\n",
       "      <td>U</td>\n",
       "      <td>POLYGON ((5608236.390336967 6207306.631047663,...</td>\n",
       "      <td>True</td>\n",
       "    </tr>\n",
       "    <tr>\n",
       "      <th>3</th>\n",
       "      <td>062520201</td>\n",
       "      <td>U</td>\n",
       "      <td>POLYGON ((5611075.149383005 6206034.538516479,...</td>\n",
       "      <td>True</td>\n",
       "    </tr>\n",
       "    <tr>\n",
       "      <th>4</th>\n",
       "      <td>062520202</td>\n",
       "      <td>U</td>\n",
       "      <td>POLYGON ((5613709.611741914 6205445.958880841,...</td>\n",
       "      <td>True</td>\n",
       "    </tr>\n",
       "  </tbody>\n",
       "</table>\n",
       "</div>"
      ],
      "text/plain": [
       "        LINK TIPO                                           geometry mixYden\n",
       "0  062520101    M  POLYGON ((5605573.523703439 6208535.44525929, ...    True\n",
       "1  062520102    M  POLYGON ((5606597.563514996 6207794.426813126,...    True\n",
       "2  062520208    U  POLYGON ((5608236.390336967 6207306.631047663,...    True\n",
       "3  062520201    U  POLYGON ((5611075.149383005 6206034.538516479,...    True\n",
       "4  062520202    U  POLYGON ((5613709.611741914 6205445.958880841,...    True"
      ]
     },
     "execution_count": 10,
     "metadata": {},
     "output_type": "execute_result"
    }
   ],
   "source": [
    "#se crea un vector que identifique los radios de baja densidad o de tipo mixto\n",
    "mixYden = (agba.TIPO == 'M') | (agba.densidad == 0)\n",
    "agba['mixYden'] = mixYden\n",
    "\n",
    "agba.drop(['AREA','Pob','densidad'], axis=1,inplace=True)\n",
    "#se crean dos tablas de datos, una con los radios de interes y otra con los radios\n",
    "agbaAltaDens = agba.loc[~agba.mixYden,:]\n",
    "agbaBajaDens = agba.loc[agba.mixYden,:]\n",
    "\n",
    "\n",
    "agba.head()"
   ]
  },
  {
   "cell_type": "code",
   "execution_count": 11,
   "metadata": {
    "collapsed": false
   },
   "outputs": [
    {
     "name": "stderr",
     "output_type": "stream",
     "text": [
      "/home/pipe/anaconda2/lib/python2.7/site-packages/ipykernel/__main__.py:2: SettingWithCopyWarning: \n",
      "A value is trying to be set on a copy of a slice from a DataFrame\n",
      "\n",
      "See the caveats in the documentation: http://pandas.pydata.org/pandas-docs/stable/indexing.html#indexing-view-versus-copy\n",
      "  from ipykernel import kernelapp as app\n",
      "/home/pipe/anaconda2/lib/python2.7/site-packages/ipykernel/__main__.py:3: SettingWithCopyWarning: \n",
      "A value is trying to be set on a copy of a slice from a DataFrame\n",
      "\n",
      "See the caveats in the documentation: http://pandas.pydata.org/pandas-docs/stable/indexing.html#indexing-view-versus-copy\n",
      "  app.launch_new_instance()\n"
     ]
    },
    {
     "data": {
      "text/html": [
       "<div>\n",
       "<table border=\"1\" class=\"dataframe\">\n",
       "  <thead>\n",
       "    <tr style=\"text-align: right;\">\n",
       "      <th></th>\n",
       "      <th>LINK</th>\n",
       "      <th>TIPO</th>\n",
       "      <th>geometry</th>\n",
       "      <th>tipo</th>\n",
       "    </tr>\n",
       "  </thead>\n",
       "  <tbody>\n",
       "    <tr>\n",
       "      <th>0</th>\n",
       "      <td>062520101</td>\n",
       "      <td>M</td>\n",
       "      <td>POLYGON ((5605573.523703439 6208535.44525929, ...</td>\n",
       "      <td>Baja densidad o mixto</td>\n",
       "    </tr>\n",
       "    <tr>\n",
       "      <th>1</th>\n",
       "      <td>062520102</td>\n",
       "      <td>M</td>\n",
       "      <td>POLYGON ((5606597.563514996 6207794.426813126,...</td>\n",
       "      <td>Baja densidad o mixto</td>\n",
       "    </tr>\n",
       "    <tr>\n",
       "      <th>2</th>\n",
       "      <td>062520208</td>\n",
       "      <td>U</td>\n",
       "      <td>POLYGON ((5608236.390336967 6207306.631047663,...</td>\n",
       "      <td>Baja densidad o mixto</td>\n",
       "    </tr>\n",
       "    <tr>\n",
       "      <th>3</th>\n",
       "      <td>062520201</td>\n",
       "      <td>U</td>\n",
       "      <td>POLYGON ((5611075.149383005 6206034.538516479,...</td>\n",
       "      <td>Baja densidad o mixto</td>\n",
       "    </tr>\n",
       "    <tr>\n",
       "      <th>4</th>\n",
       "      <td>062520202</td>\n",
       "      <td>U</td>\n",
       "      <td>POLYGON ((5613709.611741914 6205445.958880841,...</td>\n",
       "      <td>Baja densidad o mixto</td>\n",
       "    </tr>\n",
       "  </tbody>\n",
       "</table>\n",
       "</div>"
      ],
      "text/plain": [
       "        LINK TIPO                                           geometry  \\\n",
       "0  062520101    M  POLYGON ((5605573.523703439 6208535.44525929, ...   \n",
       "1  062520102    M  POLYGON ((5606597.563514996 6207794.426813126,...   \n",
       "2  062520208    U  POLYGON ((5608236.390336967 6207306.631047663,...   \n",
       "3  062520201    U  POLYGON ((5611075.149383005 6206034.538516479,...   \n",
       "4  062520202    U  POLYGON ((5613709.611741914 6205445.958880841,...   \n",
       "\n",
       "                    tipo  \n",
       "0  Baja densidad o mixto  \n",
       "1  Baja densidad o mixto  \n",
       "2  Baja densidad o mixto  \n",
       "3  Baja densidad o mixto  \n",
       "4  Baja densidad o mixto  "
      ]
     },
     "execution_count": 11,
     "metadata": {},
     "output_type": "execute_result"
    }
   ],
   "source": [
    "agba['tipo'] = ''\n",
    "agba['tipo'][agba.mixYden] = 'Baja densidad o mixto'\n",
    "agba['tipo'][~agba.mixYden] = 'Alta densidad o urbano'\n",
    "agba.drop(['mixYden'],axis=1,inplace = True)\n",
    "agba.head()"
   ]
  },
  {
   "cell_type": "code",
   "execution_count": null,
   "metadata": {
    "collapsed": false
   },
   "outputs": [],
   "source": [
    "fig = plt.figure(figsize=(10,10))\n",
    "ax = fig.add_subplot(1,1,1)\n",
    "\n",
    "agba.plot(ax=ax,linewidth=0.1, column = 'tipo',cmap='Set3',legend = True)\n",
    "radioEspecial.plot(ax=ax, color = 'red', markersize=5,label = 'Radio mixto densidad media', legend = True)\n",
    "\n",
    "ax.get_xaxis().set_visible(False)\n",
    "ax.get_yaxis().set_visible(False)\n",
    "\n"
   ]
  },
  {
   "cell_type": "code",
   "execution_count": 12,
   "metadata": {
    "collapsed": false
   },
   "outputs": [],
   "source": [
    "agba.drop(['tipo'],axis=1,inplace=True)"
   ]
  },
  {
   "cell_type": "code",
   "execution_count": 13,
   "metadata": {
    "collapsed": false
   },
   "outputs": [],
   "source": [
    "agba.to_file('../dt/carto/agba')"
   ]
  },
  {
   "cell_type": "code",
   "execution_count": null,
   "metadata": {
    "collapsed": true
   },
   "outputs": [],
   "source": []
  },
  {
   "cell_type": "markdown",
   "metadata": {
    "collapsed": true
   },
   "source": [
    "## 4. Descargar data de OpenSteetMap\n",
    "\n",
    "Open Street Map posee archivos con las calles de numerosas ciudades del mundo. Las mismas a su vez se catalogan en una [tipología](http://wiki.openstreetmap.org/wiki/Key:highway). Utilizamos el servicios de Mapzen porque ofrece los datos para una zona extensa de Buenos Aires y alrededores.\n",
    "\n"
   ]
  },
  {
   "cell_type": "code",
   "execution_count": 14,
   "metadata": {
    "collapsed": false
   },
   "outputs": [],
   "source": [
    "#download data\n",
    "osmFile = home + '/Downloads/buenos-aires_argentina.osm2pgsql-shapefiles/buenos-aires_argentina_osm_line.shp'\n",
    "if not os.path.isfile(osmFile):\n",
    "    os.sys('wget https://s3.amazonaws.com/metro-extracts.mapzen.com/buenos-aires_argentina.osm2pgsql-shapefiles.zip')\n",
    "    os.sys('unzip https://s3.amazonaws.com/metro-extracts.mapzen.com/buenos-aires_argentina.osm2pgsql-shapefiles.zip')\n",
    "\n",
    "calles = gpd.read_file(home + '/Downloads/buenos-aires_argentina.osm2pgsql-shapefiles/buenos-aires_argentina_osm_line.shp')\n",
    "calles = calles.loc[:,['highway','geometry']]\n"
   ]
  },
  {
   "cell_type": "markdown",
   "metadata": {},
   "source": [
    "## 5. Seleccionar calles residenciales y computar un buffer de 100 metros\n",
    "\n",
    "A continuación seleccionamos las calles que consideramos son típicas de una zona residencial. A las mismas le aplicamos un área alrededor de 100 metros. A su vez seleccionamos las calles de un largo menor a 2 km para evitar seleccionar areas constituidas unicamente por una sola calle.\n",
    "\n",
    "| Residential| Living street        | \n",
    "| ------------- |:-------------:|\n",
    "| ![residential](http://wiki.openstreetmap.org/w/images/3/30/Residential.jpg)     | ![Living street](http://wiki.openstreetmap.org/w/images/6/6a/Spielstrasse.jpg) |\n",
    "| **Footway**| **Pedestrian**        | \n",
    "|      ![Footway](http://wiki.openstreetmap.org/w/images/6/64/Dscf0487_600.jpg) |  ![Pedestrian](https://upload.wikimedia.org/wikipedia/commons/1/1c/Cambridge_Rd_-_geograph.org.uk_-_1189572.jpg)|\n"
   ]
  },
  {
   "cell_type": "code",
   "execution_count": 15,
   "metadata": {
    "collapsed": false,
    "scrolled": true
   },
   "outputs": [],
   "source": [
    "#se eligen el tipo de calles que asumimos constituyen parte de un area urbana\n",
    "#mask =  (calles.highway == 'residential') |  (calles.highway == 'living_street') | (calles.highway == 'footway') |  (calles.highway == 'pedestrian')\n",
    "mask =  (calles.highway == 'residential') |  (calles.highway == 'living_street') |  (calles.highway == 'pedestrian')\n",
    "calles = calles.loc[mask,:]\n",
    "\n",
    "#se proyecta el geodataframe con la misma proyeccion que los radios POSGAR94 Argentina 5 \n",
    "calles = calles.to_crs(epsg=22185)\n",
    "\n",
    "#se detemrina el largo de la linea\n",
    "calles['largo'] = calles.geometry.map(lambda x: x.length)\n",
    "\n",
    "#se selecciona las calles con un largo menos a 2 kilometros\n",
    "calles = calles.loc[calles.largo <= 2000,:]\n",
    "calles.drop(['largo'],axis=1,inplace = True)\n",
    "\n"
   ]
  },
  {
   "cell_type": "code",
   "execution_count": 16,
   "metadata": {
    "collapsed": true
   },
   "outputs": [],
   "source": [
    "calles.to_file('../dt/carto/OSMcalles')"
   ]
  },
  {
   "cell_type": "code",
   "execution_count": 17,
   "metadata": {
    "collapsed": true
   },
   "outputs": [],
   "source": [
    "#calles['buffer'] = calles.geometry.buffer(100)\n",
    "calles['buffer'] = calles.geometry.buffer(50)\n",
    "calles.drop(['geometry'],axis=1,inplace=True)\n",
    "calles.columns = [u'highway', u'geometry']"
   ]
  },
  {
   "cell_type": "markdown",
   "metadata": {},
   "source": [
    "## 6. Obtener el area del radio cubierta por calles residenciales\n",
    "\n",
    "Nuetros problema parte de poder indentificar en aquellos radios no plenamente poblados, que porción se encuentra poblada efectivamente. El objetivo final es obtener un polígono con dicha zona. Asumimos que dicha area tendrá calles que Open Street Map considera dentro de la tipología que mencionamos previamente. Procederemos a escoger el area del radio que **inersecta** con las calles (a las que convertimos en polígonos utilizando un buffer de 100 metros). Escojemos a continuación un radio para ejemplificar cómo procedemos. "
   ]
  },
  {
   "cell_type": "markdown",
   "metadata": {},
   "source": [
    "### 6.1 Ejecución en un subset de datos a modo de ejemplo "
   ]
  },
  {
   "cell_type": "code",
   "execution_count": 18,
   "metadata": {
    "collapsed": false
   },
   "outputs": [],
   "source": [
    "#selecionamos los radios a utilizar\n",
    "radiosSel = gpd.read_file('dataPrueba/radiosSeleccionados.shp')\n",
    "\n",
    "#seleccionamos una calle que atraviesa dichos radios\n",
    "calleConectada = gpd.read_file('dataPrueba/calleConConexion.shp')\n",
    "calleConectada['buffer'] = calleConectada.geometry.buffer(70)\n",
    "calleConectada.drop(['geometry'],axis=1,inplace=True)\n",
    "calleConectada.columns = [u'highway', u'geometry']\n"
   ]
  },
  {
   "cell_type": "code",
   "execution_count": null,
   "metadata": {
    "collapsed": false
   },
   "outputs": [],
   "source": [
    "fig = plt.figure(figsize=(6,6))\n",
    "ax = fig.add_subplot(1,1,1)\n",
    "radiosSel.plot(ax=ax,color='green')\n",
    "calleConectada.plot(ax=ax,color='red')\n",
    "ax.get_xaxis().set_visible(False)\n",
    "ax.get_yaxis().set_visible(False)\n"
   ]
  },
  {
   "cell_type": "code",
   "execution_count": null,
   "metadata": {
    "collapsed": false
   },
   "outputs": [],
   "source": [
    "#obtenemos el area que donde se intersectan el polígono del radio y el polígono de las calles\n",
    "intersec = gpd.overlay(radiosSel, calleConectada, how='intersection')\n",
    "intersec"
   ]
  },
  {
   "cell_type": "code",
   "execution_count": null,
   "metadata": {
    "collapsed": false
   },
   "outputs": [],
   "source": [
    "fig = plt.figure(figsize=(6,6))\n",
    "ax = fig.add_subplot(1,1,1)\n",
    "radiosSel.plot(ax=ax,color='green')\n",
    "intersec.plot(ax=ax,column='LINK')\n",
    "ax.get_xaxis().set_visible(False)\n",
    "ax.get_yaxis().set_visible(False)\n"
   ]
  },
  {
   "cell_type": "markdown",
   "metadata": {},
   "source": [
    "Como se puede observar, el polígono de la calle queda segmentado de acuerdo al radio al que pertenece. Eventualmente realizaremos esto con todas las calles, obteniendo la intersección de las mismas con todos los radios, y disolviendo todas estas areas para cada radio. Obviamente algunas calles no se intersectan con algunos radios. En este caso la operación *overlay* de **Geopandas** directamente arroja un *geodataframe* vacío. De todos modos esto se resolverá de otro modo que mostraremos más adelante. Para continuar, seleccionamos otra calle para demostrar como funciona el proceso *dissolve*"
   ]
  },
  {
   "cell_type": "code",
   "execution_count": null,
   "metadata": {
    "collapsed": true
   },
   "outputs": [],
   "source": [
    "calleConectada2 = gpd.read_file('dataPrueba/calleConConexion2.shp')\n",
    "calleConectada2['buffer'] = calleConectada2.geometry.buffer(70)\n",
    "calleConectada2.drop(['geometry'],axis=1,inplace=True)\n",
    "calleConectada2.columns = [u'highway', u'geometry']\n",
    "\n"
   ]
  },
  {
   "cell_type": "code",
   "execution_count": null,
   "metadata": {
    "collapsed": false
   },
   "outputs": [],
   "source": [
    "fig = plt.figure(figsize=(6,6))\n",
    "ax = fig.add_subplot(1,1,1)\n",
    "radiosSel.plot(ax=ax,color='green')\n",
    "radiosSel.loc[radiosSel.LINK == '065391011',:].plot(ax=ax,color='blue')\n",
    "calleConectada2.plot(ax=ax,color='RED')\n",
    "ax.get_xaxis().set_visible(False)\n",
    "ax.get_yaxis().set_visible(False)\n",
    "\n"
   ]
  },
  {
   "cell_type": "code",
   "execution_count": null,
   "metadata": {
    "collapsed": false
   },
   "outputs": [],
   "source": [
    "#realizamos el proceso de overlay con intersection como parametro \n",
    "intersec2 = gpd.overlay(radiosSel, calleConectada2, how='intersection')\n",
    "#agregamos a esta tabla, la tabla obtenida por el proceso anterior de interseccion\n",
    "appenDF = intersec2.append(intersec)\n",
    "#disolvemos los poligonos por el campo LINK, obteniendo un unico poligono para cada radio \n",
    "appenDFdiss = appenDF.dissolve(by='LINK')\n"
   ]
  },
  {
   "cell_type": "code",
   "execution_count": null,
   "metadata": {
    "collapsed": false,
    "scrolled": true
   },
   "outputs": [],
   "source": [
    "fig = plt.figure(figsize=(6,6))\n",
    "ax = fig.add_subplot(1,1,1)\n",
    "radiosSel.plot(ax=ax,color='green')\n",
    "appenDFdiss.reset_index().plot(ax=ax,column='LINK')\n",
    "ax.get_xaxis().set_visible(False)\n",
    "ax.get_yaxis().set_visible(False)\n",
    "\n"
   ]
  },
  {
   "cell_type": "markdown",
   "metadata": {},
   "source": [
    "### 6.2  Ejecución en el total del conjunto de datos\n",
    "\n",
    "La situación normal es que una calle no intersecte con la mayoría de los radios, sino más bien con unos pocos. Por lo tanto, para no cruzar cada una de las calles con cada uno de los radios para todos los radios y todas las calles, primero realizamos un *spatial join* para saber qué calles atraviesan cada radio. "
   ]
  },
  {
   "cell_type": "code",
   "execution_count": 19,
   "metadata": {
    "collapsed": false
   },
   "outputs": [
    {
     "name": "stderr",
     "output_type": "stream",
     "text": [
      "/home/pipe/anaconda2/lib/python2.7/site-packages/numpy/lib/function_base.py:2287: RuntimeWarning: invalid value encountered in find_intersects (vectorized)\n",
      "  outputs = ufunc(*inputs)\n"
     ]
    },
    {
     "data": {
      "text/html": [
       "<div>\n",
       "<table border=\"1\" class=\"dataframe\">\n",
       "  <thead>\n",
       "    <tr style=\"text-align: right;\">\n",
       "      <th></th>\n",
       "      <th>geometry</th>\n",
       "      <th>calleID</th>\n",
       "      <th>LINK</th>\n",
       "    </tr>\n",
       "  </thead>\n",
       "  <tbody>\n",
       "    <tr>\n",
       "      <th>0</th>\n",
       "      <td>POLYGON ((5586068.485945459 6157743.550650484,...</td>\n",
       "      <td>279</td>\n",
       "      <td>063640504</td>\n",
       "    </tr>\n",
       "    <tr>\n",
       "      <th>1</th>\n",
       "      <td>POLYGON ((5585801.480500272 6157783.434787733,...</td>\n",
       "      <td>280</td>\n",
       "      <td>063640504</td>\n",
       "    </tr>\n",
       "    <tr>\n",
       "      <th>2</th>\n",
       "      <td>POLYGON ((5585784.503342485 6157959.463019626,...</td>\n",
       "      <td>281</td>\n",
       "      <td>063640504</td>\n",
       "    </tr>\n",
       "    <tr>\n",
       "      <th>3</th>\n",
       "      <td>POLYGON ((5585893.51990313 6157893.231723711, ...</td>\n",
       "      <td>282</td>\n",
       "      <td>063640504</td>\n",
       "    </tr>\n",
       "    <tr>\n",
       "      <th>4</th>\n",
       "      <td>POLYGON ((5585865.148090852 6157933.855030926,...</td>\n",
       "      <td>283</td>\n",
       "      <td>063640504</td>\n",
       "    </tr>\n",
       "  </tbody>\n",
       "</table>\n",
       "</div>"
      ],
      "text/plain": [
       "                                            geometry  calleID       LINK\n",
       "0  POLYGON ((5586068.485945459 6157743.550650484,...      279  063640504\n",
       "1  POLYGON ((5585801.480500272 6157783.434787733,...      280  063640504\n",
       "2  POLYGON ((5585784.503342485 6157959.463019626,...      281  063640504\n",
       "3  POLYGON ((5585893.51990313 6157893.231723711, ...      282  063640504\n",
       "4  POLYGON ((5585865.148090852 6157933.855030926,...      283  063640504"
      ]
     },
     "execution_count": 19,
     "metadata": {},
     "output_type": "execute_result"
    }
   ],
   "source": [
    "calles.drop(['highway'],axis=1,inplace=True)\n",
    "calles['calleID'] = calles.index\n",
    "#a cada calle le asigno el radio al que pertenece mediante un spatial join\n",
    "#una calle puede atravesar mas de un radio, por eso van a aparecer calles repedidas en la tabla\n",
    "calles = gpd.sjoin(calles, agbaBajaDens.loc[:,['geometry','LINK']], how=\"inner\", op='intersects')\n",
    "calles.reset_index(inplace=True)\n",
    "calles.drop(['index','index_right'],axis=1,inplace=True)\n",
    "calles.head()"
   ]
  },
  {
   "cell_type": "markdown",
   "metadata": {},
   "source": [
    "Luego repetimos la operación descrita en el ejemplo, para el conjunto de los datos, una calle por vez y realizando la intersección solo para los radios a los que esa calle atraviesa."
   ]
  },
  {
   "cell_type": "code",
   "execution_count": 20,
   "metadata": {
    "collapsed": false
   },
   "outputs": [
    {
     "name": "stdout",
     "output_type": "stream",
     "text": [
      "% 100.                    0.70  0.72           1.15 1.21                     1.99                2.44        2.67                                     3.96    4.13    4.26     4.40                   5.07  5.11              5.61            5.96           6.32  6.37            6.89         7.20     7.38      7.53                                         8.97     9.12                9.64                10.2                                    11.7      11.9               12.4                               13.7  13.8    13.8                                             15.2                                                                        17.4   17.4           17.7  17.8                   18.4   18.4           18.7      18.9  19.0   19.1                                                                     21.5         21.9    22.0              22.5                                        23.7     23.9                    24.4    24.5                 25.0                  25.5            26.0   26.1             26.4              26.9     27.1                         28.0  28.0                28.5            28.9            29.2           29.6    29.7      29.9            30.3                 30.8  30.9            31.3                                 32.4                32.9                      33.6                       34.3     34.5                 35.0          35.3    35.4                                 36.3   36.4       36.5                                  37.1     37.3                 37.7              38.1                    38.7                     39.4                                                         41.2   41.2    41.3  41.4       41.6     41.7   41.8                            42.7           43.0                43.6    43.7                                                           45.8                             46.7                              47.7                   48.4                                        49.8          50.1  50.1          50.5                       51.2      51.4  51.4        51.6                    52.2       52.4                                                 54.0          54.3      54.5                                           55.9                          56.7                                      57.9           58.2                       59.0     59.1      59.3                                 60.3                                                          62.2              62.6     62.8                         63.4  63.5                   64.0   64.1      64.3  64.3                                          65.6    65.7  65.7                                 66.7   66.7     66.9         67.1           67.4                   68.0                 68.4                 68.9             69.3                                               70.7              71.0                  71.5         71.8              72.2   72.3           72.6   72.6        72.9          73.1     73.2       73.4            73.7                               74.6                                     75.6          75.9                                                                          77.6 77.6                                        78.8   78.8               79.3                               80.1  80.2                                                                 82.0   82.0                                                    83.4     83.5     83.6                     84.2                 84.6                       85.2  85.2                                                 86.5             86.8                                87.6   87.7                              88.3    88.4                                          89.4              89.7  89.7  89.8  89.8         90.0                         90.6         90.8   90.8          91.1           91.3       91.4                   91.8  91.9  91.9                                           92.8           93.1                               93.9         94.1      94.2                                                 95.3                         95.8                                                             97.2                   97.7  97.7                                   98.5        98.7  98.8        98.9                    99.4     99.5                  \n"
     ]
    }
   ],
   "source": [
    "primerID = calles.calleID.unique()[0]\n",
    "counter = 0\n",
    "for i in calles.calleID.unique():\n",
    "    #para cada calle\n",
    "    subset = calles.loc[calles.calleID==i,:]\n",
    "    #selecciono de a una calle\n",
    "    unaLinea = subset.iloc[0:1,:]\n",
    "    #de todos los radios, selecciono los que interseccionan esta calle\n",
    "    conjuntoDeRadios = agbaBajaDens.loc[agbaBajaDens.LINK.isin(subset.LINK),:]\n",
    "    #realizo una intercepcion\n",
    "    if i == primerID:\n",
    "        intercept = gpd.overlay(conjuntoDeRadios, unaLinea, how='intersection')\n",
    "    else:\n",
    "        tmp = gpd.overlay(conjuntoDeRadios, unaLinea, how='intersection')\n",
    "        intercept = intercept.append(tmp)\n",
    "    counter += 1\n",
    "        \n",
    "    print '\\r',\"%\",str((counter+1)*100./len(calles.calleID.unique()))[:4],"
   ]
  },
  {
   "cell_type": "code",
   "execution_count": 21,
   "metadata": {
    "collapsed": false
   },
   "outputs": [
    {
     "data": {
      "text/html": [
       "<div>\n",
       "<table border=\"1\" class=\"dataframe\">\n",
       "  <thead>\n",
       "    <tr style=\"text-align: right;\">\n",
       "      <th></th>\n",
       "      <th>LINK</th>\n",
       "      <th>geometry</th>\n",
       "    </tr>\n",
       "  </thead>\n",
       "  <tbody>\n",
       "    <tr>\n",
       "      <th>0</th>\n",
       "      <td>063640504</td>\n",
       "      <td>POLYGON ((5585913.593729161 6157732.772541544,...</td>\n",
       "    </tr>\n",
       "    <tr>\n",
       "      <th>0</th>\n",
       "      <td>063640504</td>\n",
       "      <td>POLYGON ((5585851.772921198 6157831.740168469,...</td>\n",
       "    </tr>\n",
       "    <tr>\n",
       "      <th>0</th>\n",
       "      <td>063640504</td>\n",
       "      <td>POLYGON ((5585688.096268978 6157997.802733555,...</td>\n",
       "    </tr>\n",
       "    <tr>\n",
       "      <th>0</th>\n",
       "      <td>063640504</td>\n",
       "      <td>POLYGON ((5585770.920317612 6157913.299657593,...</td>\n",
       "    </tr>\n",
       "    <tr>\n",
       "      <th>0</th>\n",
       "      <td>063640504</td>\n",
       "      <td>POLYGON ((5585694.678862779 6157991.085822214,...</td>\n",
       "    </tr>\n",
       "  </tbody>\n",
       "</table>\n",
       "</div>"
      ],
      "text/plain": [
       "        LINK                                           geometry\n",
       "0  063640504  POLYGON ((5585913.593729161 6157732.772541544,...\n",
       "0  063640504  POLYGON ((5585851.772921198 6157831.740168469,...\n",
       "0  063640504  POLYGON ((5585688.096268978 6157997.802733555,...\n",
       "0  063640504  POLYGON ((5585770.920317612 6157913.299657593,...\n",
       "0  063640504  POLYGON ((5585694.678862779 6157991.085822214,..."
      ]
     },
     "execution_count": 21,
     "metadata": {},
     "output_type": "execute_result"
    }
   ],
   "source": [
    "intercept = intercept.loc[:,['LINK','geometry']]\n",
    "intercept.head()"
   ]
  },
  {
   "cell_type": "markdown",
   "metadata": {
    "collapsed": false
   },
   "source": [
    "El resultado que obtenemos es una serie de poligonos de las calles recortados dentro del radio al que pertenece el segmento de esa calle. El paso siguiente es disolver todos los poligonos que esten dentro del mimso radios, es decir que compartan el mismo LINK, en un solo polígono."
   ]
  },
  {
   "cell_type": "code",
   "execution_count": 22,
   "metadata": {
    "collapsed": false
   },
   "outputs": [],
   "source": [
    "primerLINKid = intercept.LINK.unique()[0]\n",
    "for i in intercept.LINK.unique():\n",
    "    if i == primerLINKid:\n",
    "        dissolve = intercept.loc[intercept.LINK==i,:].dissolve(by='LINK').reset_index()\n",
    "    else:\n",
    "        try:\n",
    "            tmp = intercept.loc[intercept.LINK==i,:].dissolve(by='LINK').reset_index()\n",
    "        except:\n",
    "            #tomo los intercepts dentro de un radio por su LINK\n",
    "            tmp = intercept.loc[intercept.LINK==i,:]\n",
    "            #creo el primer elemento de la cascade_union\n",
    "            geoConError = tmp.geometry.iloc[0]\n",
    "            for i in range(1,tmp.shape[0]):\n",
    "                geoConError = shapely.ops.cascaded_union([geoConError,tmp.geometry.iloc[i]])\n",
    "            tmp = tmp.iloc[0:1,:].reset_index().drop(['index'],axis=1)\n",
    "            tmp['geometry'][0] = geoConError\n",
    "            \n",
    "        dissolve = dissolve.append(tmp)\n",
    "            \n"
   ]
  },
  {
   "cell_type": "code",
   "execution_count": 23,
   "metadata": {
    "collapsed": false
   },
   "outputs": [],
   "source": [
    "#se convierte el geodataframe con una geometria sin proyeccion establecida a una en Posgar\n",
    "dissolve = gpd.GeoDataFrame(dissolve, geometry=\"geometry\", crs=agba.crs)\n",
    "dissolve = dissolve.reset_index().drop(['index'],axis=1)\n",
    "agbaAltaDens = agbaAltaDens.reset_index().drop(['index','mixYden'],axis=1)"
   ]
  },
  {
   "cell_type": "code",
   "execution_count": 24,
   "metadata": {
    "collapsed": false
   },
   "outputs": [
    {
     "data": {
      "text/html": [
       "<div>\n",
       "<table border=\"1\" class=\"dataframe\">\n",
       "  <thead>\n",
       "    <tr style=\"text-align: right;\">\n",
       "      <th></th>\n",
       "      <th>LINK</th>\n",
       "      <th>TIPO</th>\n",
       "      <th>geometry</th>\n",
       "    </tr>\n",
       "  </thead>\n",
       "  <tbody>\n",
       "    <tr>\n",
       "      <th>0</th>\n",
       "      <td>062520209</td>\n",
       "      <td>U</td>\n",
       "      <td>POLYGON ((5612723.096547182 6201186.305513684,...</td>\n",
       "    </tr>\n",
       "    <tr>\n",
       "      <th>1</th>\n",
       "      <td>062520216</td>\n",
       "      <td>U</td>\n",
       "      <td>POLYGON ((5611865.994244184 6200953.547424132,...</td>\n",
       "    </tr>\n",
       "    <tr>\n",
       "      <th>2</th>\n",
       "      <td>062520105</td>\n",
       "      <td>U</td>\n",
       "      <td>POLYGON ((5610396.67145441 6200626.129762402, ...</td>\n",
       "    </tr>\n",
       "    <tr>\n",
       "      <th>3</th>\n",
       "      <td>062520217</td>\n",
       "      <td>U</td>\n",
       "      <td>POLYGON ((5611665.072409396 6200842.464373552,...</td>\n",
       "    </tr>\n",
       "    <tr>\n",
       "      <th>4</th>\n",
       "      <td>062520104</td>\n",
       "      <td>U</td>\n",
       "      <td>POLYGON ((5610396.67145441 6200626.129762402, ...</td>\n",
       "    </tr>\n",
       "  </tbody>\n",
       "</table>\n",
       "</div>"
      ],
      "text/plain": [
       "        LINK TIPO                                           geometry\n",
       "0  062520209    U  POLYGON ((5612723.096547182 6201186.305513684,...\n",
       "1  062520216    U  POLYGON ((5611865.994244184 6200953.547424132,...\n",
       "2  062520105    U  POLYGON ((5610396.67145441 6200626.129762402, ...\n",
       "3  062520217    U  POLYGON ((5611665.072409396 6200842.464373552,...\n",
       "4  062520104    U  POLYGON ((5610396.67145441 6200626.129762402, ..."
      ]
     },
     "execution_count": 24,
     "metadata": {},
     "output_type": "execute_result"
    }
   ],
   "source": [
    "#se agregan a los polígonos de alta densidad y urbanos, los nuevos poligonos recortados en base a OSM\n",
    "agbaOSM = agbaAltaDens.append(dissolve)\n",
    "agbaOSM.head()"
   ]
  },
  {
   "cell_type": "code",
   "execution_count": null,
   "metadata": {
    "collapsed": false
   },
   "outputs": [],
   "source": [
    "fig = plt.figure(figsize=(10,10))\n",
    "ax = fig.add_subplot(1,1,1)\n",
    "\n",
    "agbaOSM.plot(ax=ax,linewidth=0.1, color='gray')\n",
    "\n",
    "ax.get_xaxis().set_visible(False)\n",
    "ax.get_yaxis().set_visible(False)"
   ]
  },
  {
   "cell_type": "code",
   "execution_count": 25,
   "metadata": {
    "collapsed": false
   },
   "outputs": [],
   "source": [
    "agbaOSM.to_file('../dt/carto/agbaOSM/')"
   ]
  },
  {
   "cell_type": "code",
   "execution_count": null,
   "metadata": {
    "collapsed": true
   },
   "outputs": [],
   "source": []
  },
  {
   "cell_type": "code",
   "execution_count": null,
   "metadata": {
    "collapsed": true
   },
   "outputs": [],
   "source": []
  },
  {
   "cell_type": "code",
   "execution_count": null,
   "metadata": {
    "collapsed": true
   },
   "outputs": [],
   "source": []
  },
  {
   "cell_type": "code",
   "execution_count": null,
   "metadata": {
    "collapsed": true
   },
   "outputs": [],
   "source": []
  }
 ],
 "metadata": {
  "anaconda-cloud": {},
  "kernelspec": {
   "display_name": "Python 2",
   "language": "python",
   "name": "python2"
  },
  "language_info": {
   "codemirror_mode": {
    "name": "ipython",
    "version": 2
   },
   "file_extension": ".py",
   "mimetype": "text/x-python",
   "name": "python",
   "nbconvert_exporter": "python",
   "pygments_lexer": "ipython2",
   "version": "2.7.13"
  }
 },
 "nbformat": 4,
 "nbformat_minor": 2
}
